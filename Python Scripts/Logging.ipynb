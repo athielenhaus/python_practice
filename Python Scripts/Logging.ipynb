{
 "cells": [
  {
   "cell_type": "code",
   "execution_count": 1,
   "id": "6256bbfb",
   "metadata": {},
   "outputs": [],
   "source": [
    "import logging"
   ]
  },
  {
   "cell_type": "code",
   "execution_count": 2,
   "id": "847d059e",
   "metadata": {},
   "outputs": [],
   "source": [
    "# CAN ONLY CALL THE BASIC CONFIG FUNCTION ONCE\n",
    "def main2():\n",
    "    \n",
    "    extrData = {'user': 'joe@xmple.com'}\n",
    "    \n",
    "    fmtstr = \"User:%(user)s %(asctime)s: %(levelname)s: %(funcName)s Line:%(lineno)d %(message)s\"\n",
    "    \n",
    "    logging.basicConfig(level=logging.DEBUG,\n",
    "                       filename= \"output.log\",\n",
    "                       filemode = \"w\",\n",
    "                       format = fmtstr)\n",
    "    \n",
    "    logging.debug(\"This is a debug message\", extra = extrData)\n",
    "    logging.info(\"This is a info message\", extra = extrData)\n",
    "    logging.warning(\"This is a warning message\", extra = extrData)\n",
    "    logging.error(\"This is an error message\", extra = extrData)\n",
    "    logging.critical(\"This is a critical message\", extra = extrData)\n",
    "\n",
    "main2()"
   ]
  },
  {
   "cell_type": "code",
   "execution_count": null,
   "id": "3e383036",
   "metadata": {},
   "outputs": [],
   "source": []
  },
  {
   "cell_type": "code",
   "execution_count": null,
   "id": "2e6f620e",
   "metadata": {},
   "outputs": [],
   "source": []
  }
 ],
 "metadata": {
  "kernelspec": {
   "display_name": "Python 3 (ipykernel)",
   "language": "python",
   "name": "python3"
  },
  "language_info": {
   "codemirror_mode": {
    "name": "ipython",
    "version": 3
   },
   "file_extension": ".py",
   "mimetype": "text/x-python",
   "name": "python",
   "nbconvert_exporter": "python",
   "pygments_lexer": "ipython3",
   "version": "3.9.7"
  }
 },
 "nbformat": 4,
 "nbformat_minor": 5
}
