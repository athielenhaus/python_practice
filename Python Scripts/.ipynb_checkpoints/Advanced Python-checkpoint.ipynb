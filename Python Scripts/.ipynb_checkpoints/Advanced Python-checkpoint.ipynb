{
 "cells": [
  {
   "cell_type": "markdown",
   "id": "0a4b4109",
   "metadata": {},
   "source": [
    "# Booleans"
   ]
  },
  {
   "cell_type": "code",
   "execution_count": 2,
   "id": "37d990fe",
   "metadata": {},
   "outputs": [
    {
     "name": "stdout",
     "output_type": "stream",
     "text": [
      "True\n",
      "False\n",
      "False\n",
      "True\n",
      "False\n",
      "False\n"
     ]
    }
   ],
   "source": [
    "a = 1\n",
    "b = 0\n",
    "x = []\n",
    "x2 = [1]\n",
    "y = ()\n",
    "z = {}\n",
    "\n",
    "items = [a, b, x, x2, y, z]\n",
    "\n",
    "for i in items:\n",
    "    print(bool(i))"
   ]
  },
  {
   "cell_type": "markdown",
   "id": "4e3d90c5",
   "metadata": {},
   "source": [
    "# Template strings"
   ]
  },
  {
   "cell_type": "code",
   "execution_count": 3,
   "id": "833293a2",
   "metadata": {},
   "outputs": [],
   "source": [
    "from string import Template"
   ]
  },
  {
   "cell_type": "code",
   "execution_count": 4,
   "id": "5442e471",
   "metadata": {},
   "outputs": [],
   "source": [
    "templ = Template(\"You're watching ${title} by ${author}\")"
   ]
  },
  {
   "cell_type": "code",
   "execution_count": 6,
   "id": "cae527b9",
   "metadata": {},
   "outputs": [],
   "source": [
    "str2 = templ.substitute(title=\"Advanced Python\", author= \"Joe Marini\")"
   ]
  },
  {
   "cell_type": "code",
   "execution_count": 8,
   "id": "026449be",
   "metadata": {},
   "outputs": [
    {
     "name": "stdout",
     "output_type": "stream",
     "text": [
      "You're watching Advanced Python by Joe Marini\n"
     ]
    }
   ],
   "source": [
    "print(str2)"
   ]
  },
  {
   "cell_type": "code",
   "execution_count": 10,
   "id": "61ba93d7",
   "metadata": {},
   "outputs": [],
   "source": [
    "data = {\n",
    "    \"author\" : \"Joe Marini\",\n",
    "    \"title\" : \"Advanced Python\"\n",
    "}"
   ]
  },
  {
   "cell_type": "code",
   "execution_count": 11,
   "id": "fa0a4b6c",
   "metadata": {},
   "outputs": [
    {
     "name": "stdout",
     "output_type": "stream",
     "text": [
      "You're watching Advanced Python by Joe Marini\n"
     ]
    }
   ],
   "source": [
    "str3 = templ.substitute(data)\n",
    "print(str3)"
   ]
  },
  {
   "cell_type": "code",
   "execution_count": null,
   "id": "20efb725",
   "metadata": {},
   "outputs": [],
   "source": [
    "class Book():\n",
    "    \n",
    "    def __init__(self):\n",
    "        pass\n",
    "    \n",
    "    \n",
    "    def freestyle(self):\n",
    "        "
   ]
  },
  {
   "cell_type": "markdown",
   "id": "785cf481",
   "metadata": {},
   "source": [
    "# Utilities"
   ]
  },
  {
   "cell_type": "code",
   "execution_count": 13,
   "id": "b0f17069",
   "metadata": {},
   "outputs": [],
   "source": [
    "list1 = [1, 2, 3, 0, 5, 6]"
   ]
  },
  {
   "cell_type": "code",
   "execution_count": 14,
   "id": "87a0ef50",
   "metadata": {},
   "outputs": [
    {
     "name": "stdout",
     "output_type": "stream",
     "text": [
      "True\n"
     ]
    }
   ],
   "source": [
    "# check to see if anything in the list returns True\n",
    "print(any(list1))"
   ]
  },
  {
   "cell_type": "code",
   "execution_count": 15,
   "id": "515c7578",
   "metadata": {},
   "outputs": [
    {
     "name": "stdout",
     "output_type": "stream",
     "text": [
      "False\n"
     ]
    }
   ],
   "source": [
    "# check to see if all items in the list return True\n",
    "print(all(list1))"
   ]
  },
  {
   "cell_type": "code",
   "execution_count": 16,
   "id": "7b0c1f97",
   "metadata": {},
   "outputs": [
    {
     "data": {
      "text/plain": [
       "0"
      ]
     },
     "execution_count": 16,
     "metadata": {},
     "output_type": "execute_result"
    }
   ],
   "source": [
    "min(list1)"
   ]
  },
  {
   "cell_type": "code",
   "execution_count": 17,
   "id": "7fab51a6",
   "metadata": {},
   "outputs": [
    {
     "data": {
      "text/plain": [
       "6"
      ]
     },
     "execution_count": 17,
     "metadata": {},
     "output_type": "execute_result"
    }
   ],
   "source": [
    "max(list1)"
   ]
  },
  {
   "cell_type": "code",
   "execution_count": 18,
   "id": "f9784315",
   "metadata": {},
   "outputs": [
    {
     "data": {
      "text/plain": [
       "17"
      ]
     },
     "execution_count": 18,
     "metadata": {},
     "output_type": "execute_result"
    }
   ],
   "source": [
    "sum(list1)"
   ]
  },
  {
   "cell_type": "markdown",
   "id": "2b7ee37c",
   "metadata": {},
   "source": [
    "# Iterators"
   ]
  },
  {
   "cell_type": "code",
   "execution_count": 29,
   "id": "5c606524",
   "metadata": {},
   "outputs": [],
   "source": [
    "def main():\n",
    "    days = [\"Sun\", \"Mon\", \"Tue\", \"Wed\", \"Thu\", \"Fri\", \"Sat\"]\n",
    "    daysFr = [\"Dim\", \"Lun\", \"Mar\", \"Mer\", \"Jeu\", \"Ven\", \"Sam\"]\n",
    "    \n",
    "    i = iter(days)\n",
    "    print(next(i))\n",
    "    print(next(i))\n",
    "    print(next(i))"
   ]
  },
  {
   "cell_type": "code",
   "execution_count": 22,
   "id": "fe7bb923",
   "metadata": {},
   "outputs": [
    {
     "name": "stdout",
     "output_type": "stream",
     "text": [
      "Sun\n",
      "Mon\n",
      "Tue\n"
     ]
    }
   ],
   "source": [
    "main()"
   ]
  },
  {
   "cell_type": "code",
   "execution_count": 30,
   "id": "f279aa5f",
   "metadata": {},
   "outputs": [
    {
     "name": "stdout",
     "output_type": "stream",
     "text": [
      "1 Sun\n",
      "2 Mon\n",
      "3 Tue\n",
      "4 Wed\n",
      "5 Thu\n",
      "6 Fri\n",
      "7 Sat\n"
     ]
    }
   ],
   "source": [
    "days = [\"Sun\", \"Mon\", \"Tue\", \"Wed\", \"Thu\", \"Fri\", \"Sat\"]\n",
    "\n",
    "for m in range(len(days)):\n",
    "    print(m + 1, days[m])"
   ]
  },
  {
   "cell_type": "markdown",
   "id": "76dca9ba",
   "metadata": {},
   "source": [
    "## Enumerate"
   ]
  },
  {
   "cell_type": "code",
   "execution_count": 31,
   "id": "6369ba1b",
   "metadata": {},
   "outputs": [
    {
     "name": "stdout",
     "output_type": "stream",
     "text": [
      "1 Sun\n",
      "2 Mon\n",
      "3 Tue\n",
      "4 Wed\n",
      "5 Thu\n",
      "6 Fri\n",
      "7 Sat\n"
     ]
    }
   ],
   "source": [
    "for i, m in enumerate(days, start = 1):\n",
    "    print(i, m)"
   ]
  },
  {
   "cell_type": "markdown",
   "id": "4770d102",
   "metadata": {},
   "source": [
    "## Zip"
   ]
  },
  {
   "cell_type": "code",
   "execution_count": 32,
   "id": "4a9e0faa",
   "metadata": {},
   "outputs": [],
   "source": [
    "days = [\"Sun\", \"Mon\", \"Tue\", \"Wed\", \"Thu\", \"Fri\", \"Sat\"]\n",
    "daysFr = [\"Dim\", \"Lun\", \"Mar\", \"Mer\", \"Jeu\", \"Ven\", \"Sam\"]"
   ]
  },
  {
   "cell_type": "code",
   "execution_count": 33,
   "id": "8052587e",
   "metadata": {},
   "outputs": [
    {
     "name": "stdout",
     "output_type": "stream",
     "text": [
      "('Sun', 'Dim')\n",
      "('Mon', 'Lun')\n",
      "('Tue', 'Mar')\n",
      "('Wed', 'Mer')\n",
      "('Thu', 'Jeu')\n",
      "('Fri', 'Ven')\n",
      "('Sat', 'Sam')\n"
     ]
    }
   ],
   "source": [
    "for m in zip(days, daysFr):\n",
    "    print(m)"
   ]
  },
  {
   "cell_type": "code",
   "execution_count": 39,
   "id": "d5de1d4d",
   "metadata": {},
   "outputs": [
    {
     "name": "stdout",
     "output_type": "stream",
     "text": [
      "1 Sun = Dim\n",
      "2 Mon = Lun\n",
      "3 Tue = Mar\n",
      "4 Wed = Mer\n",
      "5 Thu = Jeu\n",
      "6 Fri = Ven\n",
      "7 Sat = Sam\n"
     ]
    }
   ],
   "source": [
    "# NOTE: the zip function ends when the shortest list ends\n",
    "for i, m in enumerate(zip(days, daysFr), start = 1):\n",
    "    print(i, m[0], \"=\", m[1])"
   ]
  },
  {
   "cell_type": "markdown",
   "id": "7e0dee48",
   "metadata": {},
   "source": [
    "# Tranforms\n",
    "## Filter function"
   ]
  },
  {
   "cell_type": "code",
   "execution_count": 40,
   "id": "fd942dd4",
   "metadata": {},
   "outputs": [],
   "source": [
    "nums = (1, 8, 4, 5, 13, 26, 743, 34, 67)\n",
    "chars = \"asGjnerKFldFKOMNmndw\""
   ]
  },
  {
   "cell_type": "code",
   "execution_count": 43,
   "id": "1eb3511b",
   "metadata": {},
   "outputs": [],
   "source": [
    "# filters out even numbers\n",
    "def filterFunc(x):\n",
    "    if x % 2 == 0:\n",
    "        return False\n",
    "    return True"
   ]
  },
  {
   "cell_type": "code",
   "execution_count": 47,
   "id": "bbec734b",
   "metadata": {},
   "outputs": [],
   "source": [
    "# filters out uppercase characters\n",
    "def filterFunc2(x):\n",
    "    if x.isupper():\n",
    "        return False\n",
    "    return True"
   ]
  },
  {
   "cell_type": "code",
   "execution_count": 45,
   "id": "92cb5ac7",
   "metadata": {},
   "outputs": [
    {
     "name": "stdout",
     "output_type": "stream",
     "text": [
      "[1, 5, 13, 743, 67]\n"
     ]
    }
   ],
   "source": [
    "# filters out even numbers\n",
    "odds = list(filter(filterFunc, nums))\n",
    "print(odds)"
   ]
  },
  {
   "cell_type": "code",
   "execution_count": 48,
   "id": "c77a9e67",
   "metadata": {},
   "outputs": [
    {
     "name": "stdout",
     "output_type": "stream",
     "text": [
      "['a', 's', 'j', 'n', 'e', 'r', 'l', 'd', 'm', 'n', 'd', 'w']\n"
     ]
    }
   ],
   "source": [
    "# filters out uppercase characters\n",
    "lowers = list(filter(filterFunc2, chars))\n",
    "print(lowers)"
   ]
  },
  {
   "cell_type": "markdown",
   "id": "5a06074e",
   "metadata": {},
   "source": [
    "## Map function"
   ]
  },
  {
   "cell_type": "code",
   "execution_count": 49,
   "id": "229bbc3e",
   "metadata": {},
   "outputs": [],
   "source": [
    "def squareFunc(x):\n",
    "    return x**2"
   ]
  },
  {
   "cell_type": "code",
   "execution_count": 50,
   "id": "547e1cd7",
   "metadata": {},
   "outputs": [
    {
     "name": "stdout",
     "output_type": "stream",
     "text": [
      "[1, 64, 16, 25, 169, 676, 552049, 1156, 4489]\n"
     ]
    }
   ],
   "source": [
    "squares = list(map(squareFunc, nums))\n",
    "print(squares)"
   ]
  },
  {
   "cell_type": "code",
   "execution_count": 80,
   "id": "affbbb7d",
   "metadata": {},
   "outputs": [
    {
     "name": "stdout",
     "output_type": "stream",
     "text": [
      "[55, 67, 69, 78, 87, 88, 94, 98]\n"
     ]
    }
   ],
   "source": [
    "grades_b = [67, 88, 69, 87, 94, 98, 55, 78]\n",
    "grades = sorted(grades_b)\n",
    "print(grades)"
   ]
  },
  {
   "cell_type": "code",
   "execution_count": 63,
   "id": "d931d431",
   "metadata": {},
   "outputs": [],
   "source": [
    "def toGrade(x):\n",
    "    if (x >= 90):\n",
    "        return \"A\"\n",
    "    elif (x >= 80 and x < 90):\n",
    "        return \"B\"\n",
    "    elif (x >= 70 and x < 80):\n",
    "        return \"C\"\n",
    "    elif (x >= 60 and x < 70):\n",
    "        return \"D\"\n",
    "    return \"F\"\n",
    "    "
   ]
  },
  {
   "cell_type": "code",
   "execution_count": 67,
   "id": "f842ed75",
   "metadata": {},
   "outputs": [
    {
     "name": "stdout",
     "output_type": "stream",
     "text": [
      "['F', 'D', 'D', 'C', 'B', 'B', 'A', 'A']\n"
     ]
    }
   ],
   "source": [
    "letters = list(map(toGrade, grades))\n",
    "print(letters)"
   ]
  },
  {
   "cell_type": "markdown",
   "id": "a082e7c8",
   "metadata": {},
   "source": [
    "# Itertools"
   ]
  },
  {
   "cell_type": "code",
   "execution_count": 68,
   "id": "7e71dbf0",
   "metadata": {},
   "outputs": [],
   "source": [
    "import itertools"
   ]
  },
  {
   "cell_type": "code",
   "execution_count": 69,
   "id": "b0386fbe",
   "metadata": {},
   "outputs": [],
   "source": [
    "seq1 = [\"Joe\", \"Bob\", \"Tim\"]"
   ]
  },
  {
   "cell_type": "code",
   "execution_count": 70,
   "id": "7cee2088",
   "metadata": {},
   "outputs": [
    {
     "name": "stdout",
     "output_type": "stream",
     "text": [
      "Joe\n",
      "Bob\n",
      "Tim\n",
      "Joe\n"
     ]
    }
   ],
   "source": [
    "# use \"cycle\" to cycle through list indefinitely\n",
    "cycle1 = itertools.cycle(seq1)\n",
    "print(next(cycle1))\n",
    "print(next(cycle1))\n",
    "print(next(cycle1))\n",
    "print(next(cycle1))"
   ]
  },
  {
   "cell_type": "code",
   "execution_count": 72,
   "id": "7f7d6ef8",
   "metadata": {},
   "outputs": [
    {
     "name": "stdout",
     "output_type": "stream",
     "text": [
      "100\n",
      "110\n",
      "120\n",
      "130\n"
     ]
    }
   ],
   "source": [
    "# Counter\n",
    "count1 = itertools.count(100, 10)\n",
    "print(next(count1))\n",
    "print(next(count1))\n",
    "print(next(count1))\n",
    "print(next(count1))"
   ]
  },
  {
   "cell_type": "code",
   "execution_count": 78,
   "id": "e249778f",
   "metadata": {},
   "outputs": [],
   "source": [
    "# Accumulator\n",
    "acc = itertools.accumulate(grades)"
   ]
  },
  {
   "cell_type": "code",
   "execution_count": null,
   "id": "f6aa3376",
   "metadata": {},
   "outputs": [],
   "source": [
    "print(next(accumulate1))\n",
    "print(next(accumulate1))\n",
    "print(next(accumulate1))\n",
    "print(next(accumulate1))\n",
    "print(next(accumulate1))"
   ]
  },
  {
   "cell_type": "code",
   "execution_count": 77,
   "id": "ac527551",
   "metadata": {},
   "outputs": [
    {
     "name": "stdout",
     "output_type": "stream",
     "text": [
      "[55, 122, 191, 269, 356, 444, 538, 636]\n"
     ]
    }
   ],
   "source": [
    "# running list\n",
    "print(list(acc))"
   ]
  },
  {
   "cell_type": "code",
   "execution_count": 82,
   "id": "ab655636",
   "metadata": {},
   "outputs": [
    {
     "name": "stdout",
     "output_type": "stream",
     "text": [
      "[67, 88, 88, 88, 94, 98, 98, 98]\n"
     ]
    }
   ],
   "source": [
    "# shows the max number until a higher number is reached\n",
    "maxlist = itertools.accumulate(grades_b, max)\n",
    "print(list(maxlist))"
   ]
  },
  {
   "cell_type": "markdown",
   "id": "89ded1b0",
   "metadata": {},
   "source": [
    "## Chain"
   ]
  },
  {
   "cell_type": "code",
   "execution_count": 84,
   "id": "6048c1d4",
   "metadata": {},
   "outputs": [
    {
     "name": "stdout",
     "output_type": "stream",
     "text": [
      "['A', 'B', 'C', 'D', '1', '2', '3', '4']\n"
     ]
    }
   ],
   "source": [
    "x = itertools.chain(\"ABCD\", \"1234\")\n",
    "print(list(x))"
   ]
  },
  {
   "cell_type": "markdown",
   "id": "e4a06511",
   "metadata": {},
   "source": [
    "## Dropwhile and Takewhile"
   ]
  },
  {
   "cell_type": "code",
   "execution_count": 99,
   "id": "ee990600",
   "metadata": {},
   "outputs": [
    {
     "name": "stdout",
     "output_type": "stream",
     "text": [
      "[55, 67, 69, 78, 87, 88, 94, 98]\n"
     ]
    }
   ],
   "source": [
    "print(grades)"
   ]
  },
  {
   "cell_type": "code",
   "execution_count": 100,
   "id": "21f6347f",
   "metadata": {},
   "outputs": [],
   "source": [
    "def testFunction(x):\n",
    "    if x < 75:\n",
    "        return True\n",
    "    return False"
   ]
  },
  {
   "cell_type": "code",
   "execution_count": 102,
   "id": "916c7f10",
   "metadata": {},
   "outputs": [
    {
     "name": "stdout",
     "output_type": "stream",
     "text": [
      "[78, 87, 88, 94, 98]\n"
     ]
    }
   ],
   "source": [
    "'''DROPS VALUES FROM THE LIST UNTIL FALSE IS RETURNED ONCE, \n",
    "ALL SUBSEQUENT VALUES ARE KEPT'''\n",
    "good_grades = itertools.dropwhile(testFunction, grades)\n",
    "print(list(good_grades))"
   ]
  },
  {
   "cell_type": "code",
   "execution_count": 103,
   "id": "abf031e1",
   "metadata": {},
   "outputs": [
    {
     "name": "stdout",
     "output_type": "stream",
     "text": [
      "[55, 67, 69]\n"
     ]
    }
   ],
   "source": [
    "'''KEEPS VALUES FROM THE LIST UNTIL FALSE IS RETURNED ONCE, \n",
    "ALL SUBSEQUENT VALUES ARE DELETED'''\n",
    "bad_grades = itertools.takewhile(testFunction, grades)\n",
    "print(list(bad_grades))"
   ]
  },
  {
   "cell_type": "markdown",
   "id": "3d954d1f",
   "metadata": {},
   "source": [
    "## Function Documentation Strings"
   ]
  },
  {
   "cell_type": "code",
   "execution_count": 105,
   "id": "5d2d9a2b",
   "metadata": {},
   "outputs": [
    {
     "name": "stdout",
     "output_type": "stream",
     "text": [
      "map(func, *iterables) --> map object\n",
      "\n",
      "Make an iterator that computes the function using arguments from\n",
      "each of the iterables.  Stops when the shortest iterable is exhausted.\n"
     ]
    }
   ],
   "source": [
    "# get documentation for a function with \"__doc__\"\n",
    "print(map.__doc__)"
   ]
  },
  {
   "cell_type": "code",
   "execution_count": 108,
   "id": "9ffb35fd",
   "metadata": {},
   "outputs": [],
   "source": [
    "def myFunction(arg1, arg2=None):\n",
    "    '''myFunction(arg1, arg2=None) ---> prints arguments\n",
    "    \n",
    "    Parameters: whatever you feel like passing\n",
    "    arg1 = any value you want\n",
    "    arg2 = second argument. Defaults to none'''\n",
    "    \n",
    "    print(arg1, arg2)"
   ]
  },
  {
   "cell_type": "markdown",
   "id": "61ac68d2",
   "metadata": {},
   "source": [
    "### Notes for documentation\n",
    "* List all parameters, one per line\n",
    "* List returned values. If there are none, no need to explicitly say so\n",
    "* Always use trip quotes\n",
    "* First line should always be about function's purpose"
   ]
  },
  {
   "cell_type": "code",
   "execution_count": 109,
   "id": "503c6e05",
   "metadata": {},
   "outputs": [
    {
     "name": "stdout",
     "output_type": "stream",
     "text": [
      "myFunction(arg1, arg2=None) ---> prints arguments\n",
      "    \n",
      "    Parameters: whatever you feel like passing\n",
      "    arg1 = any value you want\n",
      "    arg2 = second argument. Defaults to none\n"
     ]
    }
   ],
   "source": [
    "print(myFunction.__doc__)"
   ]
  },
  {
   "cell_type": "markdown",
   "id": "4ed43681",
   "metadata": {},
   "source": [
    "# Variable Arguments List"
   ]
  },
  {
   "cell_type": "code",
   "execution_count": 110,
   "id": "112192ee",
   "metadata": {},
   "outputs": [],
   "source": [
    "def addition(*args):\n",
    "    result = 0\n",
    "    for arg in args:\n",
    "        result += arg\n",
    "    return result"
   ]
  },
  {
   "cell_type": "code",
   "execution_count": 111,
   "id": "7cb40095",
   "metadata": {},
   "outputs": [
    {
     "name": "stdout",
     "output_type": "stream",
     "text": [
      "70\n"
     ]
    }
   ],
   "source": [
    "print(addition(4, 6, 7, 2, 8, 43))"
   ]
  },
  {
   "cell_type": "code",
   "execution_count": 112,
   "id": "0119ffb0",
   "metadata": {},
   "outputs": [],
   "source": [
    "myNums = [4, 6, 7, 2, 8, 43]"
   ]
  },
  {
   "cell_type": "code",
   "execution_count": 114,
   "id": "46a7435a",
   "metadata": {},
   "outputs": [
    {
     "name": "stdout",
     "output_type": "stream",
     "text": [
      "70\n"
     ]
    }
   ],
   "source": [
    "print(addition(*myNums))"
   ]
  },
  {
   "cell_type": "markdown",
   "id": "ed874da3",
   "metadata": {},
   "source": [
    "Note: can be problematic if you have multiple positional arguments, easy to make a mistake if not paying attention"
   ]
  },
  {
   "cell_type": "code",
   "execution_count": 115,
   "id": "ed1c2fbc",
   "metadata": {},
   "outputs": [],
   "source": [
    "def addition2(base, *args):\n",
    "    result = 0\n",
    "    for arg in args:\n",
    "        result += arg\n",
    "    return result"
   ]
  },
  {
   "cell_type": "code",
   "execution_count": 116,
   "id": "439a2c1c",
   "metadata": {},
   "outputs": [
    {
     "name": "stdout",
     "output_type": "stream",
     "text": [
      "66\n"
     ]
    }
   ],
   "source": [
    "print(addition2(*myNums))"
   ]
  },
  {
   "cell_type": "code",
   "execution_count": 117,
   "id": "ae6978d1",
   "metadata": {},
   "outputs": [
    {
     "name": "stdout",
     "output_type": "stream",
     "text": [
      "70\n"
     ]
    }
   ],
   "source": [
    "print(addition2(\"steve\", *myNums))"
   ]
  },
  {
   "cell_type": "markdown",
   "id": "fb792f63",
   "metadata": {},
   "source": [
    "# Lambda Functions"
   ]
  },
  {
   "cell_type": "markdown",
   "id": "ff0889f5",
   "metadata": {},
   "source": [
    "### Syntax\n",
    "lambda (paramaters) : (expression)"
   ]
  },
  {
   "cell_type": "code",
   "execution_count": 1,
   "id": "4acf6056",
   "metadata": {},
   "outputs": [],
   "source": [
    "ctemps = [0, 12, 34, 100]\n",
    "ftemps = [32, 65, 100, 212]"
   ]
  },
  {
   "cell_type": "code",
   "execution_count": 2,
   "id": "5091f414",
   "metadata": {},
   "outputs": [],
   "source": [
    "# convert celsius to fahrenheit\n",
    "x = map((lambda x : (x * 9/5) + 32), ctemps)"
   ]
  },
  {
   "cell_type": "code",
   "execution_count": 3,
   "id": "72b33c74",
   "metadata": {},
   "outputs": [
    {
     "name": "stdout",
     "output_type": "stream",
     "text": [
      "[32.0, 53.6, 93.2, 212.0]\n"
     ]
    }
   ],
   "source": [
    "print(list(x))"
   ]
  },
  {
   "cell_type": "markdown",
   "id": "124723fb",
   "metadata": {},
   "source": [
    "# Advanced Collections\n",
    "## namedtuple"
   ]
  },
  {
   "cell_type": "code",
   "execution_count": 4,
   "id": "da471d54",
   "metadata": {},
   "outputs": [],
   "source": [
    "import collections"
   ]
  },
  {
   "cell_type": "code",
   "execution_count": 24,
   "id": "9b21d06e",
   "metadata": {},
   "outputs": [],
   "source": [
    "def main():\n",
    "    point = collections.namedtuple(\"Point\", \"x y j\")\n",
    "    p1 = point(10, 20, \"sdfs\")\n",
    "    p2 = point(39, 53, \"hello\")\n",
    "    print(p1, p2)\n",
    "    print(p1.x, p2.j)"
   ]
  },
  {
   "cell_type": "code",
   "execution_count": 25,
   "id": "84e88d16",
   "metadata": {},
   "outputs": [
    {
     "name": "stdout",
     "output_type": "stream",
     "text": [
      "Point(x=10, y=20, j='sdfs') Point(x=39, y=53, j='hello')\n",
      "10 hello\n"
     ]
    }
   ],
   "source": [
    "main()"
   ]
  },
  {
   "cell_type": "code",
   "execution_count": 29,
   "id": "2ad51323",
   "metadata": {},
   "outputs": [],
   "source": [
    "def main2():\n",
    "    point = collections.namedtuple(\"Point\", \"x y j\")\n",
    "    p1 = point(10, 20, \"sdfs\")\n",
    "    print(p1)\n",
    "    \n",
    "    p1 = p1._replace(x = 100)\n",
    "    print(p1)"
   ]
  },
  {
   "cell_type": "code",
   "execution_count": 30,
   "id": "67c6d388",
   "metadata": {},
   "outputs": [
    {
     "name": "stdout",
     "output_type": "stream",
     "text": [
      "Point(x=10, y=20, j='sdfs')\n",
      "Point(x=100, y=20, j='sdfs')\n"
     ]
    }
   ],
   "source": [
    "main2()"
   ]
  },
  {
   "cell_type": "markdown",
   "id": "e70c6d5a",
   "metadata": {},
   "source": [
    "## defaultdict"
   ]
  },
  {
   "cell_type": "code",
   "execution_count": 63,
   "id": "f09495f1",
   "metadata": {},
   "outputs": [],
   "source": [
    "fruits = [\"apple\", \"pear\", \"kiwi\", \"orange\", \"kiwi\", \"lemon\", \"apple\", \"peach\", \"apple\", \"grape\"]"
   ]
  },
  {
   "cell_type": "code",
   "execution_count": 64,
   "id": "21d79c76",
   "metadata": {},
   "outputs": [],
   "source": [
    "fruitCounter = {}"
   ]
  },
  {
   "cell_type": "code",
   "execution_count": 65,
   "id": "c84b60b4",
   "metadata": {},
   "outputs": [
    {
     "name": "stdout",
     "output_type": "stream",
     "text": [
      "{'apple': 3, 'pear': 1, 'kiwi': 2, 'orange': 1, 'lemon': 1, 'peach': 1, 'grape': 1}\n"
     ]
    }
   ],
   "source": [
    "for fruit in fruits:\n",
    "    if fruit in fruitCounter.keys():\n",
    "        fruitCounter[fruit] += 1\n",
    "    else:\n",
    "        fruitCounter[fruit] = 1\n",
    "\n",
    "print(fruitCounter)"
   ]
  },
  {
   "cell_type": "code",
   "execution_count": 66,
   "id": "753bb0a1",
   "metadata": {},
   "outputs": [],
   "source": [
    "from collections import defaultdict"
   ]
  },
  {
   "cell_type": "code",
   "execution_count": 67,
   "id": "83875977",
   "metadata": {},
   "outputs": [],
   "source": [
    "fruits2 = [\"apple\", \"pear\", \"kiwi\", \"orange\", \"kiwi\", \"lemon\", \"apple\", \"peach\", \"apple, \"\"grape\"]"
   ]
  },
  {
   "cell_type": "code",
   "execution_count": 68,
   "id": "dec21b1a",
   "metadata": {},
   "outputs": [],
   "source": [
    "# this initiates the default value in the dict to 0\n",
    "fruitCounter2 = defaultdict(int)"
   ]
  },
  {
   "cell_type": "code",
   "execution_count": 69,
   "id": "00c6fdfb",
   "metadata": {},
   "outputs": [
    {
     "name": "stdout",
     "output_type": "stream",
     "text": [
      "defaultdict(<class 'int'>, {'apple': 3, 'pear': 1, 'kiwi': 2, 'orange': 1, 'lemon': 1, 'peach': 1, 'grape': 1})\n"
     ]
    }
   ],
   "source": [
    "for fruit in fruits:\n",
    "    fruitCounter2[fruit] += 1\n",
    "\n",
    "print(fruitCounter2)"
   ]
  },
  {
   "cell_type": "code",
   "execution_count": 70,
   "id": "a22b9f92",
   "metadata": {},
   "outputs": [],
   "source": [
    "# can change the default value via lambda function\n",
    "fruitCounter3 = defaultdict(lambda: 100)"
   ]
  },
  {
   "cell_type": "code",
   "execution_count": 71,
   "id": "dd0fe9bd",
   "metadata": {},
   "outputs": [
    {
     "name": "stdout",
     "output_type": "stream",
     "text": [
      "defaultdict(<function <lambda> at 0x0000026F561DC700>, {'apple': 103, 'pear': 101, 'kiwi': 102, 'orange': 101, 'lemon': 101, 'peach': 101, 'grape': 101})\n"
     ]
    }
   ],
   "source": [
    "for fruit in fruits:\n",
    "    fruitCounter3[fruit] += 1\n",
    "\n",
    "print(fruitCounter3)"
   ]
  },
  {
   "cell_type": "markdown",
   "id": "c8c71dbf",
   "metadata": {},
   "source": [
    "# counters"
   ]
  },
  {
   "cell_type": "code",
   "execution_count": 72,
   "id": "eda5fadb",
   "metadata": {},
   "outputs": [],
   "source": [
    "from collections import Counter"
   ]
  },
  {
   "cell_type": "code",
   "execution_count": 73,
   "id": "360804e2",
   "metadata": {},
   "outputs": [],
   "source": [
    "c1 = Counter(fruits)"
   ]
  },
  {
   "cell_type": "code",
   "execution_count": 74,
   "id": "139c9a46",
   "metadata": {},
   "outputs": [
    {
     "name": "stdout",
     "output_type": "stream",
     "text": [
      "Counter({'apple': 3, 'kiwi': 2, 'pear': 1, 'orange': 1, 'lemon': 1, 'peach': 1, 'grape': 1})\n"
     ]
    }
   ],
   "source": [
    "print(c1)"
   ]
  },
  {
   "cell_type": "code",
   "execution_count": 75,
   "id": "f59c13b6",
   "metadata": {},
   "outputs": [
    {
     "name": "stdout",
     "output_type": "stream",
     "text": [
      "3\n"
     ]
    }
   ],
   "source": [
    "print(c1[\"apple\"])"
   ]
  },
  {
   "cell_type": "code",
   "execution_count": 77,
   "id": "0e23513a",
   "metadata": {},
   "outputs": [
    {
     "name": "stdout",
     "output_type": "stream",
     "text": [
      "10\n"
     ]
    }
   ],
   "source": [
    "print(sum(c1.values()))"
   ]
  },
  {
   "cell_type": "markdown",
   "id": "275d8f2d",
   "metadata": {},
   "source": [
    "#### most_common"
   ]
  },
  {
   "cell_type": "code",
   "execution_count": 79,
   "id": "5bf468c2",
   "metadata": {},
   "outputs": [
    {
     "name": "stdout",
     "output_type": "stream",
     "text": [
      "[('apple', 3), ('kiwi', 2), ('pear', 1)]\n"
     ]
    }
   ],
   "source": [
    "print(c1.most_common(3))"
   ]
  },
  {
   "cell_type": "code",
   "execution_count": 83,
   "id": "4724a226",
   "metadata": {},
   "outputs": [],
   "source": [
    "fruit_new = [\"watermelon\", \"squash\", \"pear\", \"apple\", \"apple\"]"
   ]
  },
  {
   "cell_type": "code",
   "execution_count": 84,
   "id": "dc1784fa",
   "metadata": {},
   "outputs": [
    {
     "name": "stdout",
     "output_type": "stream",
     "text": [
      "Counter({'apple': 2, 'watermelon': 1, 'squash': 1, 'pear': 1})\n"
     ]
    }
   ],
   "source": [
    "c3 = Counter(fruit_new)\n",
    "print(c3)"
   ]
  },
  {
   "cell_type": "code",
   "execution_count": 85,
   "id": "12342a97",
   "metadata": {},
   "outputs": [
    {
     "name": "stdout",
     "output_type": "stream",
     "text": [
      "Counter({'apple': 2, 'pear': 1})\n"
     ]
    }
   ],
   "source": [
    "# shows which items are present in both counters, the value afterwards indicates how many times they BOTH have them in common"
   ]
  },
  {
   "cell_type": "markdown",
   "id": "5841a982",
   "metadata": {},
   "source": [
    "# Deque\n",
    "double-ended queue, pronounced \"deck\""
   ]
  },
  {
   "cell_type": "code",
   "execution_count": 95,
   "id": "16f26708",
   "metadata": {},
   "outputs": [],
   "source": [
    "d = collections.deque('abcdefg')"
   ]
  },
  {
   "cell_type": "code",
   "execution_count": 96,
   "id": "c495a62c",
   "metadata": {},
   "outputs": [
    {
     "name": "stdout",
     "output_type": "stream",
     "text": [
      "deque(['a', 'b', 'c', 'd', 'e', 'f', 'g'])\n"
     ]
    }
   ],
   "source": [
    "print(d)"
   ]
  },
  {
   "cell_type": "code",
   "execution_count": 97,
   "id": "4a4d7969",
   "metadata": {},
   "outputs": [
    {
     "name": "stdout",
     "output_type": "stream",
     "text": [
      "deque([4, 'a', 'b', 'c', 'd', 'e', 'f', 'g', 'hello'])\n"
     ]
    }
   ],
   "source": [
    "d.appendleft(4)\n",
    "d.append(\"hello\")\n",
    "print(d)"
   ]
  },
  {
   "cell_type": "code",
   "execution_count": 98,
   "id": "18439c68",
   "metadata": {},
   "outputs": [
    {
     "name": "stdout",
     "output_type": "stream",
     "text": [
      "deque(['a', 'b', 'c', 'd', 'e', 'f', 'g', 'hello'])\n"
     ]
    }
   ],
   "source": [
    "d.popleft()\n",
    "print(d)"
   ]
  },
  {
   "cell_type": "code",
   "execution_count": 99,
   "id": "f6676a8f",
   "metadata": {},
   "outputs": [
    {
     "name": "stdout",
     "output_type": "stream",
     "text": [
      "deque(['b', 'c', 'd', 'e', 'f', 'g', 'hello', 'a'])\n"
     ]
    }
   ],
   "source": [
    "d.rotate(-1)\n",
    "print(d)"
   ]
  },
  {
   "cell_type": "code",
   "execution_count": 100,
   "id": "ecc78cf4",
   "metadata": {},
   "outputs": [
    {
     "name": "stdout",
     "output_type": "stream",
     "text": [
      "deque(['g', 'hello', 'a', 'b', 'c', 'd', 'e', 'f'])\n"
     ]
    }
   ],
   "source": [
    "d.rotate(3)\n",
    "print(d)"
   ]
  },
  {
   "cell_type": "code",
   "execution_count": 103,
   "id": "d46a7cd4",
   "metadata": {},
   "outputs": [],
   "source": [
    "import string"
   ]
  },
  {
   "cell_type": "code",
   "execution_count": 110,
   "id": "b6497dd3",
   "metadata": {},
   "outputs": [],
   "source": [
    "alphabet = collections.deque(string.ascii_lowercase)"
   ]
  },
  {
   "cell_type": "code",
   "execution_count": 111,
   "id": "6d92d841",
   "metadata": {},
   "outputs": [
    {
     "name": "stdout",
     "output_type": "stream",
     "text": [
      "26\n"
     ]
    }
   ],
   "source": [
    "print(len(alphabet))"
   ]
  },
  {
   "cell_type": "markdown",
   "id": "32c938bc",
   "metadata": {},
   "source": [
    "## OrderedDicts"
   ]
  },
  {
   "cell_type": "code",
   "execution_count": 1,
   "id": "3aff34f5",
   "metadata": {},
   "outputs": [],
   "source": [
    "from collections import OrderedDict"
   ]
  },
  {
   "cell_type": "code",
   "execution_count": 10,
   "id": "dbab6c6a",
   "metadata": {},
   "outputs": [],
   "source": [
    "stuff = [(\"mellow\", \"yellow\"), (\"yellow\", \"submarine\"), \n",
    "         (\"blue\", \"moon\"), (\"lady in\", \"red\")]"
   ]
  },
  {
   "cell_type": "code",
   "execution_count": 11,
   "id": "03b6de97",
   "metadata": {},
   "outputs": [],
   "source": [
    "ord_dict = OrderedDict(stuff)"
   ]
  },
  {
   "cell_type": "code",
   "execution_count": 12,
   "id": "e2d9d450",
   "metadata": {},
   "outputs": [
    {
     "name": "stdout",
     "output_type": "stream",
     "text": [
      "OrderedDict([('mellow', 'yellow'), ('yellow', 'submarine'), ('blue', 'moon'), ('lady in', 'red')])\n"
     ]
    }
   ],
   "source": [
    "print(ord_dict)"
   ]
  },
  {
   "cell_type": "code",
   "execution_count": 13,
   "id": "b1d5ee9a",
   "metadata": {},
   "outputs": [
    {
     "data": {
      "text/plain": [
       "('mellow', 'yellow')"
      ]
     },
     "execution_count": 13,
     "metadata": {},
     "output_type": "execute_result"
    }
   ],
   "source": [
    "ord_dict.popitem(False)"
   ]
  },
  {
   "cell_type": "code",
   "execution_count": 14,
   "id": "93c7a5f9",
   "metadata": {},
   "outputs": [
    {
     "name": "stdout",
     "output_type": "stream",
     "text": [
      "OrderedDict([('yellow', 'submarine'), ('blue', 'moon'), ('lady in', 'red')])\n"
     ]
    }
   ],
   "source": [
    "print(ord_dict)"
   ]
  },
  {
   "cell_type": "code",
   "execution_count": null,
   "id": "1152bf11",
   "metadata": {},
   "outputs": [],
   "source": [
    " "
   ]
  },
  {
   "cell_type": "markdown",
   "id": "da1a6131",
   "metadata": {},
   "source": [
    "# String constants"
   ]
  },
  {
   "cell_type": "code",
   "execution_count": 107,
   "id": "72009a12",
   "metadata": {},
   "outputs": [
    {
     "name": "stdout",
     "output_type": "stream",
     "text": [
      "abcdefghijklmnopqrstuvwxyzABCDEFGHIJKLMNOPQRSTUVWXYZ\n"
     ]
    }
   ],
   "source": [
    "print(string.ascii_letters)"
   ]
  },
  {
   "cell_type": "code",
   "execution_count": 105,
   "id": "7cbb969d",
   "metadata": {},
   "outputs": [
    {
     "name": "stdout",
     "output_type": "stream",
     "text": [
      "abcdefghijklmnopqrstuvwxyz\n"
     ]
    }
   ],
   "source": [
    "print(string.ascii_lowercase)"
   ]
  },
  {
   "cell_type": "code",
   "execution_count": 108,
   "id": "d687a1f0",
   "metadata": {},
   "outputs": [
    {
     "name": "stdout",
     "output_type": "stream",
     "text": [
      "!\"#$%&'()*+,-./:;<=>?@[\\]^_`{|}~\n"
     ]
    }
   ],
   "source": [
    "print(string.punctuation)"
   ]
  },
  {
   "cell_type": "code",
   "execution_count": null,
   "id": "873b087c",
   "metadata": {},
   "outputs": [],
   "source": []
  }
 ],
 "metadata": {
  "kernelspec": {
   "display_name": "Python 3 (ipykernel)",
   "language": "python",
   "name": "python3"
  },
  "language_info": {
   "codemirror_mode": {
    "name": "ipython",
    "version": 3
   },
   "file_extension": ".py",
   "mimetype": "text/x-python",
   "name": "python",
   "nbconvert_exporter": "python",
   "pygments_lexer": "ipython3",
   "version": "3.9.7"
  }
 },
 "nbformat": 4,
 "nbformat_minor": 5
}
