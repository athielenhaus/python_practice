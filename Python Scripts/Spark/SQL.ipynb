{
 "cells": [
  {
   "cell_type": "code",
   "execution_count": 1,
   "id": "f1ad62c5",
   "metadata": {},
   "outputs": [],
   "source": [
    "from pyspark.sql import SparkSession"
   ]
  },
  {
   "cell_type": "code",
   "execution_count": 2,
   "id": "721628ce",
   "metadata": {},
   "outputs": [],
   "source": [
    "spark = SparkSession.builder.appName(\"Spark SQL Query DF\").getOrCreate()"
   ]
  },
  {
   "cell_type": "code",
   "execution_count": 7,
   "id": "90b08c9f",
   "metadata": {},
   "outputs": [],
   "source": [
    "datapath = '/Users/Arne/Documents/Spark/Ex_Files_Spark_SQL_DataFrames/Exercise Files/Data/utlization.json'"
   ]
  },
  {
   "cell_type": "code",
   "execution_count": 8,
   "id": "ad071a7a",
   "metadata": {},
   "outputs": [],
   "source": [
    "df1 = spark.read.format(\"json\").load(datapath)"
   ]
  },
  {
   "cell_type": "code",
   "execution_count": 10,
   "id": "720d65e1",
   "metadata": {},
   "outputs": [
    {
     "name": "stdout",
     "output_type": "stream",
     "text": [
      "+---------------+-------------------+-----------+---------+-------------+\n",
      "|cpu_utilization|     event_datetime|free_memory|server_id|session_count|\n",
      "+---------------+-------------------+-----------+---------+-------------+\n",
      "|           0.57|03/05/2019 08:06:14|       0.51|      100|           47|\n",
      "|           0.47|03/05/2019 08:11:14|       0.62|      100|           43|\n",
      "|           0.56|03/05/2019 08:16:14|       0.57|      100|           62|\n",
      "|           0.57|03/05/2019 08:21:14|       0.56|      100|           50|\n",
      "|           0.35|03/05/2019 08:26:14|       0.46|      100|           43|\n",
      "|           0.41|03/05/2019 08:31:14|       0.58|      100|           48|\n",
      "|           0.57|03/05/2019 08:36:14|       0.35|      100|           58|\n",
      "|           0.41|03/05/2019 08:41:14|        0.4|      100|           58|\n",
      "|           0.53|03/05/2019 08:46:14|       0.35|      100|           62|\n",
      "|           0.51|03/05/2019 08:51:14|        0.6|      100|           45|\n",
      "+---------------+-------------------+-----------+---------+-------------+\n",
      "only showing top 10 rows\n",
      "\n"
     ]
    }
   ],
   "source": [
    "df1.show(10)"
   ]
  },
  {
   "cell_type": "code",
   "execution_count": 12,
   "id": "6afac0a9",
   "metadata": {},
   "outputs": [
    {
     "data": {
      "text/plain": [
       "500000"
      ]
     },
     "execution_count": 12,
     "metadata": {},
     "output_type": "execute_result"
    }
   ],
   "source": [
    "df1.count()"
   ]
  },
  {
   "cell_type": "code",
   "execution_count": 14,
   "id": "5f90cdf3",
   "metadata": {},
   "outputs": [],
   "source": [
    "df1.createOrReplaceTempView(\"utilization\")"
   ]
  },
  {
   "cell_type": "code",
   "execution_count": 15,
   "id": "ccd125c4",
   "metadata": {},
   "outputs": [],
   "source": [
    "df_sql = spark.sql(\"SELECT * FROM utilization LIMIT 10\")"
   ]
  },
  {
   "cell_type": "code",
   "execution_count": 16,
   "id": "4d7b8ff9",
   "metadata": {},
   "outputs": [
    {
     "name": "stdout",
     "output_type": "stream",
     "text": [
      "+---------------+-------------------+-----------+---------+-------------+\n",
      "|cpu_utilization|     event_datetime|free_memory|server_id|session_count|\n",
      "+---------------+-------------------+-----------+---------+-------------+\n",
      "|           0.57|03/05/2019 08:06:14|       0.51|      100|           47|\n",
      "|           0.47|03/05/2019 08:11:14|       0.62|      100|           43|\n",
      "|           0.56|03/05/2019 08:16:14|       0.57|      100|           62|\n",
      "|           0.57|03/05/2019 08:21:14|       0.56|      100|           50|\n",
      "|           0.35|03/05/2019 08:26:14|       0.46|      100|           43|\n",
      "|           0.41|03/05/2019 08:31:14|       0.58|      100|           48|\n",
      "|           0.57|03/05/2019 08:36:14|       0.35|      100|           58|\n",
      "|           0.41|03/05/2019 08:41:14|        0.4|      100|           58|\n",
      "|           0.53|03/05/2019 08:46:14|       0.35|      100|           62|\n",
      "|           0.51|03/05/2019 08:51:14|        0.6|      100|           45|\n",
      "+---------------+-------------------+-----------+---------+-------------+\n",
      "\n"
     ]
    }
   ],
   "source": [
    "df_sql.show()"
   ]
  },
  {
   "cell_type": "code",
   "execution_count": 17,
   "id": "9bb4c923",
   "metadata": {},
   "outputs": [],
   "source": [
    "df_sql2 = spark.sql(\"SELECT server_id, session_count FROM utilization LIMIT 10\")"
   ]
  },
  {
   "cell_type": "code",
   "execution_count": 18,
   "id": "3952130a",
   "metadata": {},
   "outputs": [
    {
     "name": "stdout",
     "output_type": "stream",
     "text": [
      "+---------+-------------+\n",
      "|server_id|session_count|\n",
      "+---------+-------------+\n",
      "|      100|           47|\n",
      "|      100|           43|\n",
      "|      100|           62|\n",
      "|      100|           50|\n",
      "|      100|           43|\n",
      "|      100|           48|\n",
      "|      100|           58|\n",
      "|      100|           58|\n",
      "|      100|           62|\n",
      "|      100|           45|\n",
      "+---------+-------------+\n",
      "\n"
     ]
    }
   ],
   "source": [
    "df_sql2.show()"
   ]
  },
  {
   "cell_type": "code",
   "execution_count": 19,
   "id": "33f36324",
   "metadata": {},
   "outputs": [],
   "source": [
    "df_sql3 = spark.sql(\"SELECT server_id AS sid, session_count AS s_count FROM utilization LIMIT 10\")"
   ]
  },
  {
   "cell_type": "code",
   "execution_count": 20,
   "id": "b5c56e24",
   "metadata": {},
   "outputs": [
    {
     "name": "stdout",
     "output_type": "stream",
     "text": [
      "+---+-------+\n",
      "|sid|s_count|\n",
      "+---+-------+\n",
      "|100|     47|\n",
      "|100|     43|\n",
      "|100|     62|\n",
      "|100|     50|\n",
      "|100|     43|\n",
      "|100|     48|\n",
      "|100|     58|\n",
      "|100|     58|\n",
      "|100|     62|\n",
      "|100|     45|\n",
      "+---+-------+\n",
      "\n"
     ]
    }
   ],
   "source": [
    "df_sql3.show()"
   ]
  },
  {
   "cell_type": "markdown",
   "id": "68ec1cf8",
   "metadata": {},
   "source": [
    "## Where"
   ]
  },
  {
   "cell_type": "code",
   "execution_count": 21,
   "id": "a328b28a",
   "metadata": {},
   "outputs": [
    {
     "name": "stdout",
     "output_type": "stream",
     "text": [
      "+---------------+-------------------+-----------+---------+-------------+\n",
      "|cpu_utilization|     event_datetime|free_memory|server_id|session_count|\n",
      "+---------------+-------------------+-----------+---------+-------------+\n",
      "|           0.66|03/05/2019 08:06:48|       0.31|      120|           54|\n",
      "|           0.58|03/05/2019 08:11:48|       0.38|      120|           64|\n",
      "|           0.55|03/05/2019 08:16:48|       0.61|      120|           54|\n",
      "|            0.7|03/05/2019 08:21:48|       0.35|      120|           80|\n",
      "|            0.6|03/05/2019 08:26:48|       0.39|      120|           71|\n",
      "|           0.53|03/05/2019 08:31:48|       0.35|      120|           49|\n",
      "|           0.73|03/05/2019 08:36:48|       0.42|      120|           73|\n",
      "|           0.41|03/05/2019 08:41:48|        0.6|      120|           72|\n",
      "|           0.62|03/05/2019 08:46:48|       0.57|      120|           57|\n",
      "|           0.67|03/05/2019 08:51:48|       0.44|      120|           78|\n",
      "|           0.67|03/05/2019 08:56:48|       0.38|      120|           73|\n",
      "|           0.39|03/05/2019 09:01:48|       0.47|      120|           58|\n",
      "|            0.5|03/05/2019 09:06:48|       0.29|      120|           78|\n",
      "|           0.38|03/05/2019 09:11:48|       0.38|      120|           56|\n",
      "|           0.53|03/05/2019 09:16:48|       0.38|      120|           47|\n",
      "|           0.74|03/05/2019 09:21:48|       0.25|      120|           69|\n",
      "|           0.53|03/05/2019 09:26:48|       0.57|      120|           73|\n",
      "|           0.54|03/05/2019 09:31:48|       0.64|      120|           65|\n",
      "|            0.7|03/05/2019 09:36:48|       0.52|      120|           55|\n",
      "|           0.54|03/05/2019 09:41:48|       0.27|      120|           74|\n",
      "+---------------+-------------------+-----------+---------+-------------+\n",
      "only showing top 20 rows\n",
      "\n"
     ]
    }
   ],
   "source": [
    "df_sql4 = spark.sql(\"SELECT * FROM utilization WHERE server_id = 120\")\n",
    "df_sql4.show()"
   ]
  },
  {
   "cell_type": "code",
   "execution_count": 22,
   "id": "e162da09",
   "metadata": {},
   "outputs": [
    {
     "data": {
      "text/plain": [
       "10000"
      ]
     },
     "execution_count": 22,
     "metadata": {},
     "output_type": "execute_result"
    }
   ],
   "source": [
    "df_sql4.count()"
   ]
  },
  {
   "cell_type": "code",
   "execution_count": 23,
   "id": "200deb76",
   "metadata": {},
   "outputs": [
    {
     "name": "stdout",
     "output_type": "stream",
     "text": [
      "+---------------+-------------------+-----------+---------+-------------+\n",
      "|cpu_utilization|     event_datetime|free_memory|server_id|session_count|\n",
      "+---------------+-------------------+-----------+---------+-------------+\n",
      "|           0.86|03/05/2019 08:06:16|       0.09|      101|           93|\n",
      "|           0.71|03/05/2019 08:11:16|       0.18|      101|           98|\n",
      "|           0.77|03/05/2019 08:16:16|       0.33|      101|          100|\n",
      "|           0.88|03/05/2019 08:21:16|       0.39|      101|           83|\n",
      "|           0.88|03/05/2019 08:31:16|       0.24|      101|           77|\n",
      "|           0.65|03/05/2019 08:36:16|       0.14|      101|           90|\n",
      "|           0.76|03/05/2019 08:41:16|       0.22|      101|           85|\n",
      "|           0.76|03/05/2019 08:46:16|       0.32|      101|           95|\n",
      "|           0.75|03/05/2019 08:51:16|       0.37|      101|           88|\n",
      "|           0.68|03/05/2019 08:56:16|       0.06|      101|           89|\n",
      "|           0.61|03/05/2019 09:01:16|       0.19|      101|           85|\n",
      "|           0.72|03/05/2019 09:06:16|       0.31|      101|           88|\n",
      "|           0.78|03/05/2019 09:11:16|       0.25|      101|           86|\n",
      "|           0.99|03/05/2019 09:16:16|        0.3|      101|           98|\n",
      "|           0.88|03/05/2019 09:21:16|       0.28|      101|          100|\n",
      "|           0.73|03/05/2019 09:26:16|       0.23|      101|           76|\n",
      "|           0.71|03/05/2019 09:36:16|       0.27|      101|           83|\n",
      "|           0.96|03/05/2019 09:46:16|       0.05|      101|          100|\n",
      "|            0.8|03/05/2019 09:51:16|       0.34|      101|           90|\n",
      "|            0.8|03/05/2019 10:01:16|       0.02|      101|           91|\n",
      "+---------------+-------------------+-----------+---------+-------------+\n",
      "only showing top 20 rows\n",
      "\n"
     ]
    }
   ],
   "source": [
    "df_sql5 = spark.sql(\"SELECT * FROM utilization WHERE session_count > 75\")\n",
    "df_sql5.show()"
   ]
  },
  {
   "cell_type": "code",
   "execution_count": 24,
   "id": "ea4995f3",
   "metadata": {},
   "outputs": [
    {
     "data": {
      "text/plain": [
       "177007"
      ]
     },
     "execution_count": 24,
     "metadata": {},
     "output_type": "execute_result"
    }
   ],
   "source": [
    "df_sql5.count()"
   ]
  },
  {
   "cell_type": "code",
   "execution_count": 26,
   "id": "4e586cf2",
   "metadata": {},
   "outputs": [
    {
     "name": "stdout",
     "output_type": "stream",
     "text": [
      "+---------------+-------------------+-----------+---------+-------------+\n",
      "|cpu_utilization|     event_datetime|free_memory|server_id|session_count|\n",
      "+---------------+-------------------+-----------+---------+-------------+\n",
      "|            0.7|03/05/2019 08:21:48|       0.35|      120|           80|\n",
      "|           0.67|03/05/2019 08:51:48|       0.44|      120|           78|\n",
      "|            0.5|03/05/2019 09:06:48|       0.29|      120|           78|\n",
      "|           0.63|03/05/2019 10:06:48|       0.47|      120|           78|\n",
      "|           0.37|03/05/2019 11:41:48|       0.38|      120|           79|\n",
      "|            0.4|03/05/2019 12:01:48|       0.52|      120|           77|\n",
      "|           0.69|03/05/2019 13:36:48|       0.58|      120|           79|\n",
      "|           0.73|03/05/2019 15:26:48|       0.55|      120|           77|\n",
      "|           0.42|03/05/2019 17:56:48|       0.26|      120|           76|\n",
      "|           0.71|03/05/2019 18:06:48|       0.53|      120|           76|\n",
      "|            0.6|03/05/2019 18:36:48|       0.49|      120|           79|\n",
      "|           0.54|03/05/2019 19:01:48|       0.55|      120|           80|\n",
      "|           0.58|03/05/2019 19:16:48|       0.56|      120|           80|\n",
      "|           0.64|03/05/2019 19:21:48|       0.29|      120|           79|\n",
      "|           0.74|03/05/2019 19:26:48|       0.55|      120|           80|\n",
      "|            0.4|03/05/2019 21:06:48|       0.33|      120|           78|\n",
      "|           0.59|03/05/2019 22:26:48|       0.57|      120|           80|\n",
      "|           0.45|03/05/2019 22:46:48|       0.28|      120|           79|\n",
      "|           0.72|03/05/2019 23:26:48|       0.64|      120|           80|\n",
      "|           0.56|03/06/2019 00:51:48|       0.55|      120|           78|\n",
      "+---------------+-------------------+-----------+---------+-------------+\n",
      "only showing top 20 rows\n",
      "\n"
     ]
    }
   ],
   "source": [
    "df_sql6 = spark.sql(\"SELECT * FROM utilization WHERE session_count > 75 AND server_id = 120\")\n",
    "df_sql6.show()"
   ]
  },
  {
   "cell_type": "code",
   "execution_count": 28,
   "id": "55ef1815",
   "metadata": {},
   "outputs": [
    {
     "data": {
      "text/plain": [
       "1310"
      ]
     },
     "execution_count": 28,
     "metadata": {},
     "output_type": "execute_result"
    }
   ],
   "source": [
    "df_sql6.count()"
   ]
  },
  {
   "cell_type": "code",
   "execution_count": 30,
   "id": "65bea49e",
   "metadata": {},
   "outputs": [
    {
     "name": "stdout",
     "output_type": "stream",
     "text": [
      "+---------------+-------------------+-----------+---------+-------------+\n",
      "|cpu_utilization|     event_datetime|free_memory|server_id|session_count|\n",
      "+---------------+-------------------+-----------+---------+-------------+\n",
      "|            0.7|03/05/2019 08:21:48|       0.35|      120|           80|\n",
      "|           0.54|03/05/2019 19:01:48|       0.55|      120|           80|\n",
      "|           0.58|03/05/2019 19:16:48|       0.56|      120|           80|\n",
      "|           0.74|03/05/2019 19:26:48|       0.55|      120|           80|\n",
      "|           0.59|03/05/2019 22:26:48|       0.57|      120|           80|\n",
      "|           0.72|03/05/2019 23:26:48|       0.64|      120|           80|\n",
      "|           0.46|03/06/2019 04:21:48|       0.55|      120|           80|\n",
      "|            0.6|03/06/2019 08:26:48|       0.39|      120|           80|\n",
      "|           0.65|03/06/2019 08:51:48|       0.31|      120|           80|\n",
      "|           0.44|03/06/2019 10:01:48|       0.41|      120|           80|\n",
      "|           0.65|03/06/2019 10:56:48|       0.45|      120|           80|\n",
      "|           0.61|03/06/2019 11:31:48|       0.25|      120|           80|\n",
      "|           0.73|03/06/2019 16:56:48|       0.36|      120|           80|\n",
      "|           0.53|03/06/2019 19:21:48|       0.55|      120|           80|\n",
      "|           0.71|03/06/2019 23:56:48|       0.63|      120|           80|\n",
      "|           0.66|03/07/2019 00:51:48|        0.6|      120|           80|\n",
      "|           0.64|03/07/2019 01:21:48|       0.32|      120|           80|\n",
      "|            0.4|03/07/2019 07:51:48|        0.4|      120|           80|\n",
      "|            0.6|03/07/2019 09:41:48|       0.36|      120|           80|\n",
      "|            0.5|03/07/2019 10:16:48|       0.31|      120|           80|\n",
      "+---------------+-------------------+-----------+---------+-------------+\n",
      "only showing top 20 rows\n",
      "\n"
     ]
    }
   ],
   "source": [
    "df_sql6 = spark.sql(\"SELECT * \\\n",
    "                    FROM utilization \\\n",
    "                    where session_count > 75 AND server_id = 120 \\\n",
    "                    ORDER BY session_count desc\")\n",
    "df_sql6.show()"
   ]
  },
  {
   "cell_type": "markdown",
   "id": "63432e12",
   "metadata": {},
   "source": [
    "## Aggregates"
   ]
  },
  {
   "cell_type": "code",
   "execution_count": 31,
   "id": "5723a12e",
   "metadata": {},
   "outputs": [
    {
     "name": "stdout",
     "output_type": "stream",
     "text": [
      "+-------------------------+\n",
      "|count(DISTINCT server_id)|\n",
      "+-------------------------+\n",
      "|                       50|\n",
      "+-------------------------+\n",
      "\n"
     ]
    }
   ],
   "source": [
    "df_sql7 = spark.sql(\"select count(distinct server_id) from utilization\")\n",
    "df_sql7.show()"
   ]
  },
  {
   "cell_type": "code",
   "execution_count": 36,
   "id": "88a4d089",
   "metadata": {},
   "outputs": [
    {
     "name": "stdout",
     "output_type": "stream",
     "text": [
      "+---------+----+\n",
      "|server_id| num|\n",
      "+---------+----+\n",
      "|      126| 450|\n",
      "|      144| 598|\n",
      "|      140| 716|\n",
      "|      127| 857|\n",
      "|      107|1255|\n",
      "|      115|1582|\n",
      "|      122|1921|\n",
      "|      131|2323|\n",
      "|      136|2636|\n",
      "|      128|3170|\n",
      "|      117|3216|\n",
      "|      129|3627|\n",
      "|      109|3724|\n",
      "|      141|3736|\n",
      "|      111|3827|\n",
      "|      130|3968|\n",
      "|      125|4034|\n",
      "|      120|4057|\n",
      "|      110|4061|\n",
      "|      114|4707|\n",
      "+---------+----+\n",
      "only showing top 20 rows\n",
      "\n"
     ]
    }
   ],
   "source": [
    "df_sql8 = spark.sql(\"select server_id, count(*) as num \\\n",
    "                    from utilization \\\n",
    "                    where session_count <60 \\\n",
    "                    group by server_id \\\n",
    "                    order by num\")\n",
    "df_sql8.show()"
   ]
  },
  {
   "cell_type": "code",
   "execution_count": 39,
   "id": "76f624dc",
   "metadata": {},
   "outputs": [
    {
     "name": "stdout",
     "output_type": "stream",
     "text": [
      "+---------+----------------------------+------------------+------------------+\n",
      "|server_id|round(avg(session_count), 2)|min(session_count)|max(session_count)|\n",
      "+---------+----------------------------+------------------+------------------+\n",
      "|      100|                       48.05|                37|                59|\n",
      "|      105|                       49.41|                39|                59|\n",
      "|      106|                       45.93|                32|                59|\n",
      "|      107|                       57.33|                55|                59|\n",
      "|      109|                       52.98|                46|                59|\n",
      "|      110|                       52.46|                45|                59|\n",
      "|      111|                       52.81|                46|                59|\n",
      "|      114|                       51.28|                43|                59|\n",
      "|      115|                       56.81|                54|                59|\n",
      "|      116|                        49.6|                40|                59|\n",
      "|      117|                       53.91|                48|                59|\n",
      "|      119|                       45.72|                32|                59|\n",
      "|      120|                       52.49|                45|                59|\n",
      "|      122|                       56.14|                53|                59|\n",
      "|      124|                       46.86|                34|                59|\n",
      "|      125|                       52.29|                45|                59|\n",
      "|      126|                       58.63|                58|                59|\n",
      "|      127|                       57.98|                57|                59|\n",
      "|      128|                       53.91|                48|                59|\n",
      "|      129|                       53.26|                47|                59|\n",
      "+---------+----------------------------+------------------+------------------+\n",
      "only showing top 20 rows\n",
      "\n"
     ]
    }
   ],
   "source": [
    "df_sql9 = spark.sql(\"select server_id, round(avg(session_count), 2), min(session_count), max(session_count) \\\n",
    "                    from utilization \\\n",
    "                    where session_count <60 \\\n",
    "                    group by server_id \\\n",
    "                    order by server_id\")\n",
    "df_sql9.show()"
   ]
  },
  {
   "cell_type": "code",
   "execution_count": null,
   "id": "9f808782",
   "metadata": {},
   "outputs": [],
   "source": []
  }
 ],
 "metadata": {
  "kernelspec": {
   "display_name": "Python 3 (ipykernel)",
   "language": "python",
   "name": "python3"
  },
  "language_info": {
   "codemirror_mode": {
    "name": "ipython",
    "version": 3
   },
   "file_extension": ".py",
   "mimetype": "text/x-python",
   "name": "python",
   "nbconvert_exporter": "python",
   "pygments_lexer": "ipython3",
   "version": "3.9.7"
  }
 },
 "nbformat": 4,
 "nbformat_minor": 5
}
