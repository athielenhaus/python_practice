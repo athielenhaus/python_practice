{
 "cells": [
  {
   "cell_type": "code",
   "execution_count": 23,
   "id": "ecd6e0e4",
   "metadata": {},
   "outputs": [],
   "source": [
    "def isPalindrome(x):\n",
    "    varchar = [i for i in x]\n",
    "    print(varchar)\n",
    "    varchar_rev = varchar\n",
    "    varchar_rev.reverse()\n",
    "    print(varchar_rev)\n",
    "    return varchar == varchar_rev"
   ]
  },
  {
   "cell_type": "code",
   "execution_count": 24,
   "id": "8d2dea02",
   "metadata": {},
   "outputs": [
    {
     "name": "stdout",
     "output_type": "stream",
     "text": [
      "[1, 2]\n",
      "[2, 1]\n"
     ]
    },
    {
     "data": {
      "text/plain": [
       "True"
      ]
     },
     "execution_count": 24,
     "metadata": {},
     "output_type": "execute_result"
    }
   ],
   "source": [
    "isPalindrome([1, 2])"
   ]
  },
  {
   "cell_type": "code",
   "execution_count": null,
   "id": "623b43bc",
   "metadata": {},
   "outputs": [],
   "source": []
  }
 ],
 "metadata": {
  "kernelspec": {
   "display_name": "Python 3 (ipykernel)",
   "language": "python",
   "name": "python3"
  },
  "language_info": {
   "codemirror_mode": {
    "name": "ipython",
    "version": 3
   },
   "file_extension": ".py",
   "mimetype": "text/x-python",
   "name": "python",
   "nbconvert_exporter": "python",
   "pygments_lexer": "ipython3",
   "version": "3.9.7"
  }
 },
 "nbformat": 4,
 "nbformat_minor": 5
}
