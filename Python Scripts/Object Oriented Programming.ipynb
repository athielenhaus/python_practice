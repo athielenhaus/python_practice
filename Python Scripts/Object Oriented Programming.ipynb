{
 "cells": [
  {
   "cell_type": "code",
   "execution_count": 1,
   "id": "a6b3b411",
   "metadata": {},
   "outputs": [
    {
     "name": "stdout",
     "output_type": "stream",
     "text": [
      "hello\n"
     ]
    }
   ],
   "source": [
    "vr = 'hello'\n",
    "print(vr)"
   ]
  },
  {
   "cell_type": "code",
   "execution_count": 6,
   "id": "96903828",
   "metadata": {},
   "outputs": [],
   "source": [
    "class Book:\n",
    "    \n",
    "    BOOK_TYPES = (\"HARDCOVER\", \"PAPERBACK\", \"EBOOK\")\n",
    "    \n",
    "    \n",
    "    def __init__ (self, title, booktype):\n",
    "        self.title = title\n",
    "        if (not booktype in Book.BOOK_TYPES):\n",
    "            raise (ValueError(f\"{booktype} is not a valid book type\"))\n",
    "        else:\n",
    "            self.booktype = booktype\n",
    "            \n",
    "    @classmethod\n",
    "    def getbooktypes(cls):\n",
    "        return cls.BOOK_TYPES\n",
    "    \n",
    "    __booklist = None\n",
    "    \n",
    "    @staticmethod\n",
    "    def getbooklist():\n",
    "        if Book.__booklist == None:\n",
    "            Book.__booklist = []\n",
    "        return Book.__booklist\n",
    "    \n",
    "    "
   ]
  },
  {
   "cell_type": "code",
   "execution_count": 5,
   "id": "d82b7232",
   "metadata": {},
   "outputs": [
    {
     "name": "stdout",
     "output_type": "stream",
     "text": [
      "Book types: ('HARDCOVER', 'PAPERBACK', 'EBOOK')\n"
     ]
    }
   ],
   "source": [
    "print(\"Book types:\", Book.getbooktypes())"
   ]
  },
  {
   "cell_type": "code",
   "execution_count": 10,
   "id": "e1eb0c3f",
   "metadata": {},
   "outputs": [],
   "source": [
    "b1 = Book(\"Catcher in the Rye\", \"HARDCOVER\")\n",
    "b2 = Book(\"The Scarlet Letter\", \"PAPERBACK\")"
   ]
  },
  {
   "cell_type": "code",
   "execution_count": 12,
   "id": "c3683fc7",
   "metadata": {},
   "outputs": [
    {
     "name": "stdout",
     "output_type": "stream",
     "text": [
      "[<__main__.Book object at 0x000001E8D1FDD250>, <__main__.Book object at 0x000001E8D1FDDA90>, <__main__.Book object at 0x000001E8D1FDD3A0>, <__main__.Book object at 0x000001E8D1FDDA90>, <__main__.Book object at 0x000001E8D1FDD3A0>]\n"
     ]
    }
   ],
   "source": [
    "thebooks = Book.getbooklist()\n",
    "\n",
    "thebooks.append(b1)\n",
    "thebooks.append(b2)\n",
    "\n",
    "print(thebooks)\n"
   ]
  },
  {
   "cell_type": "code",
   "execution_count": 17,
   "id": "f74f61b5",
   "metadata": {},
   "outputs": [],
   "source": [
    "class Publication:\n",
    "    def __init__(self, title, price):\n",
    "        self.title = title\n",
    "        self.price = price\n",
    "        \n",
    "class Book(Publication):\n",
    "    def __init__(self, title, price, author, pages):\n",
    "        super().__init__(title, price)\n",
    "        self.author = author\n",
    "        self.pages = pages\n",
    "        \n",
    "class Periodical(Publication):\n",
    "    def __init(self, title, price, period, publisher):\n",
    "        super().__init__(title, price)\n",
    "        self.period = period\n",
    "        self.publisher = publisher\n",
    "        \n",
    "class Magazine(Periodical):\n",
    "    def __init__(self, title, price, period, publisher):\n",
    "        super().__init__(title, price, period, publisher) \n",
    "        \n",
    "class Newspaper(Periodical):\n",
    "    def __init__(self, title, price, period, publisher):\n",
    "        super().__init__(title, price, period, publisher) "
   ]
  },
  {
   "cell_type": "code",
   "execution_count": 18,
   "id": "55e2110f",
   "metadata": {},
   "outputs": [],
   "source": [
    "from abc import ABC, abstractmethod"
   ]
  },
  {
   "cell_type": "code",
   "execution_count": 27,
   "id": "7e61ffca",
   "metadata": {},
   "outputs": [],
   "source": [
    "class GraphicShape(ABC):\n",
    "    def __init__(self):\n",
    "        super().__init__()\n",
    "    \n",
    "    #@abstractmethod\n",
    "    def calcArea(self):\n",
    "        pass\n",
    "    \n",
    "class Circle(GraphicShape):\n",
    "    def __init__(self, radius):\n",
    "        self.radius = radius\n",
    "        \n",
    "    def calcArea(self):\n",
    "        return 3.14 * (self.radius**2)\n",
    "    \n",
    "class Square(GraphicShape):\n",
    "    def __init__(self, side):\n",
    "        self.side = side\n",
    "        \n",
    "    def calcArea(self):\n",
    "        return self.side**2"
   ]
  },
  {
   "cell_type": "code",
   "execution_count": 28,
   "id": "1942d841",
   "metadata": {},
   "outputs": [
    {
     "name": "stdout",
     "output_type": "stream",
     "text": [
      "50.24\n"
     ]
    }
   ],
   "source": [
    "c = Circle(4)\n",
    "print(c.calcArea())"
   ]
  },
  {
   "cell_type": "code",
   "execution_count": 26,
   "id": "2af2a248",
   "metadata": {},
   "outputs": [
    {
     "name": "stdout",
     "output_type": "stream",
     "text": [
      "25\n"
     ]
    }
   ],
   "source": [
    "s = Square(5)\n",
    "print(s.calcArea())"
   ]
  },
  {
   "cell_type": "code",
   "execution_count": 34,
   "id": "dc3cd52e",
   "metadata": {},
   "outputs": [
    {
     "name": "stdout",
     "output_type": "stream",
     "text": [
      "bar\n",
      "foo\n",
      "class A\n",
      "(<class '__main__.C'>, <class '__main__.A'>, <class '__main__.B'>, <class 'object'>)\n"
     ]
    }
   ],
   "source": [
    "class A:\n",
    "    def __init__(self):\n",
    "        super().__init__()\n",
    "        self.foo = \"foo\"\n",
    "        self.name = \"class A\"\n",
    "        \n",
    "class B:\n",
    "    def __init__(self):\n",
    "        super().__init__()\n",
    "        self.bar = \"bar\"\n",
    "        self.name = \"class B\"\n",
    "        \n",
    "class C(A, B):\n",
    "    def __init__(self):\n",
    "        super().__init__()\n",
    "        \n",
    "    def showprops(self):\n",
    "        print(self.bar)\n",
    "        print(self.foo)\n",
    "        print(self.name)\n",
    "    \n",
    "c = C()\n",
    "c.showprops()\n",
    "print(C.__mro__)"
   ]
  },
  {
   "cell_type": "markdown",
   "id": "53b1091b",
   "metadata": {},
   "source": [
    "# Composition"
   ]
  },
  {
   "cell_type": "code",
   "execution_count": 6,
   "id": "d1b59a2e",
   "metadata": {},
   "outputs": [],
   "source": [
    "class Book:\n",
    "    \n",
    "    def __init__(self, title, price, author = None):\n",
    "        self.title = title\n",
    "        self.price = price\n",
    "        \n",
    "        self.author = author\n",
    "        \n",
    "        self.chapters = []\n",
    "        \n",
    "    def addchapter(self, chapter):\n",
    "        self.chapters.append(chapter)\n",
    "        \n",
    "    def getpagecount(self):\n",
    "        result = 0\n",
    "        for ch in self.chapters:\n",
    "            result += ch.pagecount\n",
    "        return result\n",
    "        \n",
    "class Author:\n",
    "    def __init__(self, fname, lname):\n",
    "        self.fname = fname\n",
    "        self.lname = lname\n",
    "        \n",
    "    def __str__(self):\n",
    "        return f\"{self.fname} {self.lname}\"\n",
    "        \n",
    "class Chapter:\n",
    "    def __init__(self, name, pagecount):\n",
    "        self.name = name\n",
    "        self.pagecount = pagecount"
   ]
  },
  {
   "cell_type": "code",
   "execution_count": 7,
   "id": "eb70dfe7",
   "metadata": {},
   "outputs": [
    {
     "name": "stdout",
     "output_type": "stream",
     "text": [
      "Leo Tolstoy\n",
      "War and Peace\n",
      "291\n"
     ]
    }
   ],
   "source": [
    "auth = Author(\"Leo\", \"Tolstoy\")\n",
    "\n",
    "b1 = Book(\"War and Peace\", 39.0, auth)\n",
    "\n",
    "b1.addchapter(Chapter(\"Chapter 1\", 125))\n",
    "b1.addchapter(Chapter(\"Chapter 2\", 97))\n",
    "b1.addchapter(Chapter(\"Chapter 3\", 69))\n",
    "\n",
    "print(b1.author)\n",
    "print(b1.title)\n",
    "print(b1.getpagecount())"
   ]
  },
  {
   "cell_type": "markdown",
   "id": "68658dd3",
   "metadata": {},
   "source": [
    "# Magic Functions\n",
    "## String Representation"
   ]
  },
  {
   "cell_type": "code",
   "execution_count": 9,
   "id": "9776ab14",
   "metadata": {},
   "outputs": [],
   "source": [
    "class Book:\n",
    "    def __init__(self, title, author, price):\n",
    "        super().__init__()\n",
    "        self.title = title\n",
    "        self.author = author\n",
    "        self.price = price\n",
    "            \n",
    "    def __str__(self):\n",
    "        return f\"{self.title} by {self.author}, costs {self.price}\"\n",
    "    \n",
    "    def __repr__(self):\n",
    "        return f\"title={self.title}, author={self.author}, price={self.price}\"\n",
    "    "
   ]
  },
  {
   "cell_type": "code",
   "execution_count": 10,
   "id": "748392cb",
   "metadata": {},
   "outputs": [
    {
     "name": "stdout",
     "output_type": "stream",
     "text": [
      "War and Peace by Leo Tolstoy, costs 29.99\n",
      "The Catcher in the Rye by JD Salinger, costs 21.55\n",
      "War and Peace by Leo Tolstoy, costs 29.99\n",
      "title=The Catcher in the Rye, author=JD Salinger, price=21.55\n"
     ]
    }
   ],
   "source": [
    "b1 = Book(\"War and Peace\", \"Leo Tolstoy\", 29.99)\n",
    "b2 = Book(\"The Catcher in the Rye\", \"JD Salinger\", 21.55)\n",
    "\n",
    "print(b1)\n",
    "print(b2)\n",
    "print(str(b1))\n",
    "print(repr(b2))"
   ]
  },
  {
   "cell_type": "markdown",
   "id": "bf29b1f8",
   "metadata": {},
   "source": [
    "## Equality and Comparison"
   ]
  },
  {
   "cell_type": "code",
   "execution_count": 11,
   "id": "f9d14090",
   "metadata": {},
   "outputs": [
    {
     "name": "stdout",
     "output_type": "stream",
     "text": [
      "False\n"
     ]
    }
   ],
   "source": [
    "b1 = Book(\"War and Peace\", \"Leo Tolstoy\", 29.99)\n",
    "b2 = Book(\"The Catcher in the Rye\", \"JD Salinger\", 21.55)\n",
    "b3 = Book(\"War and Peace\", \"Leo Tolstoy\", 29.99)\n",
    "\n",
    "print(b1 == b3)"
   ]
  },
  {
   "cell_type": "code",
   "execution_count": 16,
   "id": "325638d3",
   "metadata": {},
   "outputs": [],
   "source": [
    "class Book:\n",
    "    def __init__(self, title, author, price):\n",
    "        super().__init__()\n",
    "        self.title = title\n",
    "        self.author = author\n",
    "        self.price = price\n",
    "            \n",
    "    def __str__(self):\n",
    "        return f\"{self.title} by {self.author}, costs {self.price}\"\n",
    "    \n",
    "    def __repr__(self):\n",
    "        return f\"title={self.title}, author={self.author}, price={self.price}\"\n",
    "\n",
    "    def __eq__(self, value):\n",
    "        if not isinstance(value, Book):\n",
    "            raise ValueError(\"Cannot compare book to non-book\")\n",
    "\n",
    "        return (self.title == value.title and\n",
    "                self.author == value.author and\n",
    "                self.price == value.price)"
   ]
  },
  {
   "cell_type": "code",
   "execution_count": 18,
   "id": "56184713",
   "metadata": {},
   "outputs": [
    {
     "name": "stdout",
     "output_type": "stream",
     "text": [
      "True\n",
      "False\n"
     ]
    },
    {
     "ename": "ValueError",
     "evalue": "Cannot compare book to non-book",
     "output_type": "error",
     "traceback": [
      "\u001b[1;31m---------------------------------------------------------------------------\u001b[0m",
      "\u001b[1;31mValueError\u001b[0m                                Traceback (most recent call last)",
      "\u001b[1;32m~\\AppData\\Local\\Temp/ipykernel_23440/1093342046.py\u001b[0m in \u001b[0;36m<module>\u001b[1;34m\u001b[0m\n\u001b[0;32m      5\u001b[0m \u001b[0mprint\u001b[0m\u001b[1;33m(\u001b[0m\u001b[0mb1\u001b[0m \u001b[1;33m==\u001b[0m \u001b[0mb3\u001b[0m\u001b[1;33m)\u001b[0m\u001b[1;33m\u001b[0m\u001b[1;33m\u001b[0m\u001b[0m\n\u001b[0;32m      6\u001b[0m \u001b[0mprint\u001b[0m\u001b[1;33m(\u001b[0m\u001b[0mb1\u001b[0m \u001b[1;33m==\u001b[0m \u001b[0mb2\u001b[0m\u001b[1;33m)\u001b[0m\u001b[1;33m\u001b[0m\u001b[1;33m\u001b[0m\u001b[0m\n\u001b[1;32m----> 7\u001b[1;33m \u001b[0mprint\u001b[0m\u001b[1;33m(\u001b[0m\u001b[0mb1\u001b[0m \u001b[1;33m==\u001b[0m \u001b[1;36m42\u001b[0m\u001b[1;33m)\u001b[0m\u001b[1;33m\u001b[0m\u001b[1;33m\u001b[0m\u001b[0m\n\u001b[0m",
      "\u001b[1;32m~\\AppData\\Local\\Temp/ipykernel_23440/841433879.py\u001b[0m in \u001b[0;36m__eq__\u001b[1;34m(self, value)\u001b[0m\n\u001b[0;32m     14\u001b[0m     \u001b[1;32mdef\u001b[0m \u001b[0m__eq__\u001b[0m\u001b[1;33m(\u001b[0m\u001b[0mself\u001b[0m\u001b[1;33m,\u001b[0m \u001b[0mvalue\u001b[0m\u001b[1;33m)\u001b[0m\u001b[1;33m:\u001b[0m\u001b[1;33m\u001b[0m\u001b[1;33m\u001b[0m\u001b[0m\n\u001b[0;32m     15\u001b[0m         \u001b[1;32mif\u001b[0m \u001b[1;32mnot\u001b[0m \u001b[0misinstance\u001b[0m\u001b[1;33m(\u001b[0m\u001b[0mvalue\u001b[0m\u001b[1;33m,\u001b[0m \u001b[0mBook\u001b[0m\u001b[1;33m)\u001b[0m\u001b[1;33m:\u001b[0m\u001b[1;33m\u001b[0m\u001b[1;33m\u001b[0m\u001b[0m\n\u001b[1;32m---> 16\u001b[1;33m             \u001b[1;32mraise\u001b[0m \u001b[0mValueError\u001b[0m\u001b[1;33m(\u001b[0m\u001b[1;34m\"Cannot compare book to non-book\"\u001b[0m\u001b[1;33m)\u001b[0m\u001b[1;33m\u001b[0m\u001b[1;33m\u001b[0m\u001b[0m\n\u001b[0m\u001b[0;32m     17\u001b[0m \u001b[1;33m\u001b[0m\u001b[0m\n\u001b[0;32m     18\u001b[0m         return (self.title == value.title and\n",
      "\u001b[1;31mValueError\u001b[0m: Cannot compare book to non-book"
     ]
    }
   ],
   "source": [
    "b1 = Book(\"War and Peace\", \"Leo Tolstoy\", 29.99)\n",
    "b2 = Book(\"The Catcher in the Rye\", \"JD Salinger\", 21.55)\n",
    "b3 = Book(\"War and Peace\", \"Leo Tolstoy\", 29.99)\n",
    "\n",
    "print(b1 == b3)\n",
    "print(b1 == b2)\n",
    "print(b1 == 42)"
   ]
  },
  {
   "cell_type": "markdown",
   "id": "0fedb7bd",
   "metadata": {},
   "source": [
    "# Data Classes"
   ]
  },
  {
   "cell_type": "code",
   "execution_count": 36,
   "id": "055a608f",
   "metadata": {},
   "outputs": [],
   "source": [
    "# only available with Python 3.7 and later\n",
    "from dataclasses import dataclass\n",
    "\n",
    "'''NON-DEFAULT VALUES MUST ALWAYS PRECEDE DEFAULT VALUES'''\n",
    "@dataclass\n",
    "class Book:\n",
    "    title : str = \"No title\"\n",
    "    author : str = \"No author\"\n",
    "    pages : int = 0\n",
    "    price : float = 0.0\n",
    "    \n",
    "    # post_init allows creation of additional attributes\n",
    "    def __post_init__(self):\n",
    "        self.description = f\"{self.title} by {self.author}\"\n",
    "        \n",
    "    # can add methods just as with other classes\n",
    "    def bookinfo(self):\n",
    "        return f\"{self.title}, by {self.author}\"\n",
    "        "
   ]
  },
  {
   "cell_type": "code",
   "execution_count": 31,
   "id": "d9681af6",
   "metadata": {},
   "outputs": [
    {
     "name": "stdout",
     "output_type": "stream",
     "text": [
      "War and Peace\n",
      "JD Salinger\n"
     ]
    }
   ],
   "source": [
    "b1 = Book(\"War and Peace\", \"Leo Tolstoy\", 1225, 29.99)\n",
    "b2 = Book(\"The Catcher in the Rye\", \"JD Salinger\", 234, 21.55)\n",
    "\n",
    "print(b1.title)\n",
    "print(b2.author)"
   ]
  },
  {
   "cell_type": "code",
   "execution_count": 32,
   "id": "19b7dbf6",
   "metadata": {},
   "outputs": [
    {
     "name": "stdout",
     "output_type": "stream",
     "text": [
      "True\n",
      "Book(title='The Catcher in the Rye', author='JD Salinger', pages=234, price=21.55)\n"
     ]
    }
   ],
   "source": [
    "# Dataclass automatically implements eq and repr Magic Methods\n",
    "\n",
    "b3 = Book(\"War and Peace\", \"Leo Tolstoy\", 1225, 29.99)\n",
    "\n",
    "print(b1 == b3)\n",
    "print(repr(b2))"
   ]
  },
  {
   "cell_type": "code",
   "execution_count": 33,
   "id": "18311835",
   "metadata": {},
   "outputs": [
    {
     "data": {
      "text/plain": [
       "'War and Peace, by Leo Tolstoy'"
      ]
     },
     "execution_count": 33,
     "metadata": {},
     "output_type": "execute_result"
    }
   ],
   "source": [
    "# implenting class method\n",
    "b3.bookinfo()"
   ]
  },
  {
   "cell_type": "code",
   "execution_count": 34,
   "id": "5e734b81",
   "metadata": {},
   "outputs": [
    {
     "name": "stdout",
     "output_type": "stream",
     "text": [
      "War and Peace by Leo Tolstoy\n"
     ]
    }
   ],
   "source": [
    "# implenting post_init method\n",
    "print(b1.description)"
   ]
  },
  {
   "cell_type": "code",
   "execution_count": 39,
   "id": "53ebffbe",
   "metadata": {},
   "outputs": [
    {
     "name": "stdout",
     "output_type": "stream",
     "text": [
      "Book(title='No title', author='No author', pages=0, price=0)\n"
     ]
    }
   ],
   "source": [
    "# book with no arguments (uses default values)\n",
    "b4 = Book()\n",
    "print(b4)"
   ]
  },
  {
   "cell_type": "markdown",
   "id": "1f990f26",
   "metadata": {},
   "source": [
    "## Using field function to specify default values"
   ]
  },
  {
   "cell_type": "code",
   "execution_count": 55,
   "id": "bf1846f0",
   "metadata": {},
   "outputs": [],
   "source": [
    "# need to also import \"field\"\n",
    "from dataclasses import dataclass, field\n",
    "\n",
    "'''NON-DEFAULT VALUES MUST ALWAYS PRECEDE DEFAULT VALUES'''\n",
    "@dataclass\n",
    "class Book:\n",
    "    title : str = \"No title\"\n",
    "    author : str = \"No author\"\n",
    "    pages : int = 0\n",
    "    price : float = field(default = 0.0)\n",
    "    "
   ]
  },
  {
   "cell_type": "code",
   "execution_count": 42,
   "id": "afe4bf4e",
   "metadata": {},
   "outputs": [],
   "source": [
    "b1 = Book(\"War and Peace\", \"Leo Tolstoy\", 1225)\n",
    "b2 = Book(\"The Catcher in the Rye\", \"JD Salinger\", 234)"
   ]
  },
  {
   "cell_type": "code",
   "execution_count": 43,
   "id": "9202cf23",
   "metadata": {},
   "outputs": [
    {
     "name": "stdout",
     "output_type": "stream",
     "text": [
      "Book(title='War and Peace', author='Leo Tolstoy', pages=1225, price=0.0)\n",
      "Book(title='The Catcher in the Rye', author='JD Salinger', pages=234, price=0.0)\n"
     ]
    }
   ],
   "source": [
    "print(b1)\n",
    "print(b2)"
   ]
  },
  {
   "cell_type": "markdown",
   "id": "dea9b7d9",
   "metadata": {},
   "source": [
    "## Using default factory to specify default values"
   ]
  },
  {
   "cell_type": "code",
   "execution_count": 44,
   "id": "8cc9ac3a",
   "metadata": {},
   "outputs": [],
   "source": [
    "from dataclasses import dataclass, field\n",
    "import random\n",
    "\n",
    "def price_func():\n",
    "    return float(random.randint(10, 40)) \n",
    "\n",
    "@dataclass\n",
    "class Book:\n",
    "    title : str = \"No title\"\n",
    "    author : str = \"No author\"\n",
    "    pages : int = 0\n",
    "    '''------------SEE PRICE FUNCTION--------------'''\n",
    "    price : float = field(default_factory = price_func)\n",
    "    "
   ]
  },
  {
   "cell_type": "code",
   "execution_count": 53,
   "id": "6b845cb3",
   "metadata": {},
   "outputs": [
    {
     "name": "stdout",
     "output_type": "stream",
     "text": [
      "Book(title='War and Peace', author='Leo Tolstoy', pages=1225, price=25.0)\n",
      "Book(title='The Catcher in the Rye', author='JD Salinger', pages=234, price=12.0)\n"
     ]
    }
   ],
   "source": [
    "# results in a random default price in the specified range\n",
    "b1 = Book(\"War and Peace\", \"Leo Tolstoy\", 1225)\n",
    "b2 = Book(\"The Catcher in the Rye\", \"JD Salinger\", 234)\n",
    "print(b1)\n",
    "print(b2)"
   ]
  },
  {
   "cell_type": "markdown",
   "id": "ee90df5d",
   "metadata": {},
   "source": [
    "## Making dataclasses immutable"
   ]
  },
  {
   "cell_type": "code",
   "execution_count": 61,
   "id": "08b68413",
   "metadata": {},
   "outputs": [],
   "source": [
    "# set frozen argument to \"True\"\n",
    "@dataclass(frozen = True)\n",
    "class Book:\n",
    "    title : str = \"No title\"\n",
    "    author : str = \"No author\"\n",
    "    pages : int = 0\n",
    "    price : float = 0.0\n",
    "        \n",
    "    def somefunc(self, newval):\n",
    "        self.author = newval"
   ]
  },
  {
   "cell_type": "code",
   "execution_count": 62,
   "id": "bbe528b5",
   "metadata": {},
   "outputs": [
    {
     "name": "stdout",
     "output_type": "stream",
     "text": [
      "Book(title='No title', author='No author', pages=0, price=0.0)\n"
     ]
    }
   ],
   "source": [
    "b1 = Book()\n",
    "print(b1)"
   ]
  },
  {
   "cell_type": "code",
   "execution_count": 63,
   "id": "6550700e",
   "metadata": {},
   "outputs": [
    {
     "ename": "FrozenInstanceError",
     "evalue": "cannot assign to field 'title'",
     "output_type": "error",
     "traceback": [
      "\u001b[1;31m---------------------------------------------------------------------------\u001b[0m",
      "\u001b[1;31mFrozenInstanceError\u001b[0m                       Traceback (most recent call last)",
      "\u001b[1;32m~\\AppData\\Local\\Temp/ipykernel_23440/1304892838.py\u001b[0m in \u001b[0;36m<module>\u001b[1;34m\u001b[0m\n\u001b[0;32m      1\u001b[0m \u001b[1;31m# attempting to change value results in frozeninstance error\u001b[0m\u001b[1;33m\u001b[0m\u001b[1;33m\u001b[0m\u001b[0m\n\u001b[1;32m----> 2\u001b[1;33m \u001b[0mb1\u001b[0m\u001b[1;33m.\u001b[0m\u001b[0mtitle\u001b[0m \u001b[1;33m=\u001b[0m \u001b[1;34m\"Pinnochio\"\u001b[0m\u001b[1;33m\u001b[0m\u001b[1;33m\u001b[0m\u001b[0m\n\u001b[0m",
      "\u001b[1;32m<string>\u001b[0m in \u001b[0;36m__setattr__\u001b[1;34m(self, name, value)\u001b[0m\n",
      "\u001b[1;31mFrozenInstanceError\u001b[0m: cannot assign to field 'title'"
     ]
    }
   ],
   "source": [
    "# attempting to change value results in frozeninstance error\n",
    "b1.title = \"Pinnochio\""
   ]
  },
  {
   "cell_type": "code",
   "execution_count": 64,
   "id": "d2b277e2",
   "metadata": {},
   "outputs": [
    {
     "name": "stdout",
     "output_type": "stream",
     "text": [
      "Book(title='No title', author='No author', pages=0, price=0.0)\n"
     ]
    }
   ],
   "source": [
    "b2 = Book()\n",
    "print(b2)"
   ]
  },
  {
   "cell_type": "code",
   "execution_count": 66,
   "id": "3d47a1bb",
   "metadata": {},
   "outputs": [
    {
     "ename": "FrozenInstanceError",
     "evalue": "cannot assign to field 'author'",
     "output_type": "error",
     "traceback": [
      "\u001b[1;31m---------------------------------------------------------------------------\u001b[0m",
      "\u001b[1;31mFrozenInstanceError\u001b[0m                       Traceback (most recent call last)",
      "\u001b[1;32m~\\AppData\\Local\\Temp/ipykernel_23440/1238204202.py\u001b[0m in \u001b[0;36m<module>\u001b[1;34m\u001b[0m\n\u001b[1;32m----> 1\u001b[1;33m \u001b[0mb2\u001b[0m\u001b[1;33m.\u001b[0m\u001b[0msomefunc\u001b[0m\u001b[1;33m(\u001b[0m\u001b[1;34m\"henry\"\u001b[0m\u001b[1;33m)\u001b[0m\u001b[1;33m\u001b[0m\u001b[1;33m\u001b[0m\u001b[0m\n\u001b[0m",
      "\u001b[1;32m~\\AppData\\Local\\Temp/ipykernel_23440/3952085626.py\u001b[0m in \u001b[0;36msomefunc\u001b[1;34m(self, newval)\u001b[0m\n\u001b[0;32m      8\u001b[0m \u001b[1;33m\u001b[0m\u001b[0m\n\u001b[0;32m      9\u001b[0m     \u001b[1;32mdef\u001b[0m \u001b[0msomefunc\u001b[0m\u001b[1;33m(\u001b[0m\u001b[0mself\u001b[0m\u001b[1;33m,\u001b[0m \u001b[0mnewval\u001b[0m\u001b[1;33m)\u001b[0m\u001b[1;33m:\u001b[0m\u001b[1;33m\u001b[0m\u001b[1;33m\u001b[0m\u001b[0m\n\u001b[1;32m---> 10\u001b[1;33m         \u001b[0mself\u001b[0m\u001b[1;33m.\u001b[0m\u001b[0mauthor\u001b[0m \u001b[1;33m=\u001b[0m \u001b[0mnewval\u001b[0m\u001b[1;33m\u001b[0m\u001b[1;33m\u001b[0m\u001b[0m\n\u001b[0m",
      "\u001b[1;32m<string>\u001b[0m in \u001b[0;36m__setattr__\u001b[1;34m(self, name, value)\u001b[0m\n",
      "\u001b[1;31mFrozenInstanceError\u001b[0m: cannot assign to field 'author'"
     ]
    }
   ],
   "source": [
    "b2.somefunc(\"henry\")"
   ]
  },
  {
   "cell_type": "code",
   "execution_count": 2,
   "id": "2b4e81af",
   "metadata": {},
   "outputs": [
    {
     "name": "stdout",
     "output_type": "stream",
     "text": [
      "t t\n",
      "a a\n",
      "s s\n",
      "r r\n",
      "g g\n",
      "t t\n"
     ]
    }
   ],
   "source": [
    "#thats right!\n",
    "rA = [\"t\", \"a\", \"s\", \"r\", \"g\", \"t\"]\n",
    "rB = [\"t\", \"a\", \"s\", \"r\", \"g\", \"t\"]\n",
    "for x, y in zip(rA, rB):\n",
    "    print(x, y)"
   ]
  },
  {
   "cell_type": "code",
   "execution_count": null,
   "id": "9bd27d68",
   "metadata": {},
   "outputs": [],
   "source": []
  }
 ],
 "metadata": {
  "kernelspec": {
   "display_name": "Python 3 (ipykernel)",
   "language": "python",
   "name": "python3"
  },
  "language_info": {
   "codemirror_mode": {
    "name": "ipython",
    "version": 3
   },
   "file_extension": ".py",
   "mimetype": "text/x-python",
   "name": "python",
   "nbconvert_exporter": "python",
   "pygments_lexer": "ipython3",
   "version": "3.9.7"
  }
 },
 "nbformat": 4,
 "nbformat_minor": 5
}
